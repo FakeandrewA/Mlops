{
 "cells": [
  {
   "cell_type": "code",
   "execution_count": 1,
   "id": "e31c2785-2623-4dcb-a048-81c998639a30",
   "metadata": {},
   "outputs": [],
   "source": [
    "import pandas as pd"
   ]
  },
  {
   "cell_type": "code",
   "execution_count": null,
   "id": "9355c4be-5624-4ef3-850b-b54d87f9c061",
   "metadata": {},
   "outputs": [],
   "source": [
    "!mkdir data\n",
    "!cd data\n",
    "!wget https://d37ci6vzurychx.cloudfront.net/trip-data/green_tripdata_2021-01.parquet"
   ]
  },
  {
   "cell_type": "code",
   "execution_count": 2,
   "id": "348a9faf-dc2b-47b7-8c22-28e67b14ea6f",
   "metadata": {},
   "outputs": [
    {
     "name": "stdout",
     "output_type": "stream",
     "text": [
      "Requirement already satisfied: pyarrow in /opt/conda/lib/python3.12/site-packages (20.0.0)\n"
     ]
    }
   ],
   "source": [
    "!pip install pyarrow"
   ]
  },
  {
   "cell_type": "code",
   "execution_count": 3,
   "id": "f15264dd-4d92-4051-a351-1b68e489e749",
   "metadata": {},
   "outputs": [],
   "source": [
    "import pickle"
   ]
  },
  {
   "cell_type": "code",
   "execution_count": 4,
   "id": "b573cb20-dd81-4189-aad3-c1fefafda4b3",
   "metadata": {},
   "outputs": [],
   "source": [
    "import seaborn as sns\n",
    "import matplotlib.pyplot as plt"
   ]
  },
  {
   "cell_type": "code",
   "execution_count": 5,
   "id": "491421ec-d17f-44b4-8493-59a9f5676eca",
   "metadata": {},
   "outputs": [],
   "source": [
    "from sklearn.feature_extraction import DictVectorizer\n",
    "from sklearn.linear_model import LinearRegression\n",
    "from sklearn.linear_model import Lasso\n",
    "from sklearn.linear_model import Ridge\n",
    "\n",
    "from sklearn.metrics import root_mean_squared_error"
   ]
  },
  {
   "cell_type": "code",
   "execution_count": null,
   "id": "1573c0a5",
   "metadata": {},
   "outputs": [],
   "source": [
    "import mlflow\n",
    "mlflow.set_tracking_uri()"
   ]
  },
  {
   "cell_type": "code",
   "execution_count": 6,
   "id": "3891a779-9277-480e-b649-5565ff86caf0",
   "metadata": {},
   "outputs": [],
   "source": [
    "df = pd.read_parquet(\"./data/green_tripdata_2021-01.parquet\")"
   ]
  },
  {
   "cell_type": "code",
   "execution_count": null,
   "id": "e8e0328e-8008-4dfb-90f8-f3bc5d26bc0b",
   "metadata": {},
   "outputs": [],
   "source": [
    "df[\"duration\"] = df.lpep_dropoff_datetime - df.lpep_pickup_datetime\n",
    "df"
   ]
  },
  {
   "cell_type": "code",
   "execution_count": null,
   "id": "a2329833-838b-4fe7-a7c9-2dbef5fa320a",
   "metadata": {},
   "outputs": [],
   "source": [
    "df.duration = df.duration.apply(lambda td: td.total_seconds()/60) ## changing to total minutes ## .total_seconds is the function of time delta objects\n",
    "df"
   ]
  },
  {
   "cell_type": "code",
   "execution_count": null,
   "id": "d9fca6fa-b7ab-4274-8d59-04c57d0916ab",
   "metadata": {},
   "outputs": [],
   "source": [
    "df = df[(df.duration>=1)&(df.duration <=60)]\n",
    "df.dtypes"
   ]
  },
  {
   "cell_type": "code",
   "execution_count": null,
   "id": "954812ca-0a6d-46a9-96c7-7b07b585e125",
   "metadata": {},
   "outputs": [],
   "source": [
    "copy_df = df.copy()\n",
    "categorical = [\"PULocationID\",\"DOLocationID\"]\n",
    "numerical = [\"trip_distance\"]\n",
    "\n",
    "copy_df[categorical] = copy_df[categorical].astype(str)\n"
   ]
  },
  {
   "cell_type": "code",
   "execution_count": null,
   "id": "41a3e0b2-a1e1-4309-bd1c-00874373a5e1",
   "metadata": {},
   "outputs": [],
   "source": [
    "train_dicts = copy_df[categorical + numerical].to_dict(orient='records')\n",
    "\n",
    "dv = DictVectorizer()\n",
    "X_train = dv.fit_transform(train_dicts)\n",
    "\n",
    "target = \"duration\"\n",
    "y_train = copy_df[target].values\n"
   ]
  },
  {
   "cell_type": "code",
   "execution_count": null,
   "id": "aae0e56f-319d-467c-b852-efe257007845",
   "metadata": {},
   "outputs": [],
   "source": [
    "lr = LinearRegression()\n",
    "lr.fit(X_train,y_train)\n",
    "\n",
    "y_pred = lr.predict(X_train)"
   ]
  },
  {
   "cell_type": "code",
   "execution_count": null,
   "id": "f06df838-df00-4162-a8a3-e72a5e85bc0e",
   "metadata": {},
   "outputs": [],
   "source": [
    "y_pred"
   ]
  },
  {
   "cell_type": "code",
   "execution_count": null,
   "id": "21b633ab-dc3c-4c1e-92d1-f82a9c622e6e",
   "metadata": {},
   "outputs": [],
   "source": [
    "root_mean_squared_error(y_train, y_pred)"
   ]
  },
  {
   "cell_type": "code",
   "execution_count": null,
   "id": "79cbc07c-72f5-47f0-b269-f8c1ce670795",
   "metadata": {},
   "outputs": [],
   "source": [
    "sns.distplot(y_pred, label='prediction')\n",
    "sns.distplot(y_train, label='actual')\n",
    "\n",
    "plt.legend()\n"
   ]
  },
  {
   "cell_type": "code",
   "execution_count": null,
   "id": "db98e5bf-5929-45af-b520-2ae4eb9a3247",
   "metadata": {},
   "outputs": [],
   "source": [
    "def read_dataframe(filename):\n",
    "    if filename.endswith('.csv'):\n",
    "        df = pd.read_csv(filename)\n",
    "\n",
    "        df.lpep_dropoff_datetime = pd.to_datetime(df.lpep_dropoff_datetime)\n",
    "        df.lpep_pickup_datetime = pd.to_datetime(df.lpep_pickup_datetime)\n",
    "    elif filename.endswith('.parquet'):\n",
    "        df = pd.read_parquet(filename)\n",
    "\n",
    "    df['duration'] = df.lpep_dropoff_datetime - df.lpep_pickup_datetime\n",
    "    df.duration = df.duration.apply(lambda td: td.total_seconds() / 60)\n",
    "\n",
    "    df = df[(df.duration >= 1) & (df.duration <= 60)]\n",
    "    copy_df = df.copy()\n",
    "    categorical = ['PULocationID', 'DOLocationID']\n",
    "    copy_df[categorical] = copy_df[categorical].astype(str)\n",
    "    \n",
    "    return copy_df"
   ]
  },
  {
   "cell_type": "code",
   "execution_count": null,
   "id": "14e12e40-9afe-4c14-8a97-6e7a770747d6",
   "metadata": {},
   "outputs": [],
   "source": [
    "df_train = read_dataframe('./data/green_tripdata_2021-01.parquet')\n",
    "df_val = read_dataframe('./data/green_tripdata_2021-02.parquet')"
   ]
  },
  {
   "cell_type": "code",
   "execution_count": null,
   "id": "5fc410d3-0d98-4d67-b545-cfdaa115f8dd",
   "metadata": {},
   "outputs": [],
   "source": [
    "len(df_train), len(df_val)"
   ]
  },
  {
   "cell_type": "code",
   "execution_count": null,
   "id": "45e0149a-f00e-4ef2-8f7e-cc297ed25008",
   "metadata": {},
   "outputs": [],
   "source": [
    "df_train['PU_DO'] = df_train['PULocationID'] + '_' + df_train['DOLocationID']\n",
    "df_val['PU_DO'] = df_val['PULocationID'] + '_' + df_val['DOLocationID']"
   ]
  },
  {
   "cell_type": "code",
   "execution_count": null,
   "id": "3e8e7948-7c58-474a-b975-9d23d9eb3466",
   "metadata": {},
   "outputs": [],
   "source": [
    "categorical = ['PU_DO'] #'PULocationID', 'DOLocationID']\n",
    "numerical = ['trip_distance']\n",
    "\n",
    "dv = DictVectorizer()\n",
    "\n",
    "train_dicts = df_train[categorical + numerical].to_dict(orient='records')\n",
    "X_train = dv.fit_transform(train_dicts)\n",
    "\n",
    "val_dicts = df_val[categorical + numerical].to_dict(orient='records')\n",
    "X_val = dv.transform(val_dicts)"
   ]
  },
  {
   "cell_type": "code",
   "execution_count": null,
   "id": "5b78ba50-bbb2-4e1c-b340-1238f32e4a14",
   "metadata": {},
   "outputs": [],
   "source": [
    "target = 'duration'\n",
    "y_train = df_train[target].values\n",
    "y_val = df_val[target].values"
   ]
  },
  {
   "cell_type": "code",
   "execution_count": null,
   "id": "3c0b0637-ec7f-4f7a-a769-410f6b94ba0c",
   "metadata": {},
   "outputs": [],
   "source": [
    "lr = LinearRegression()\n",
    "lr.fit(X_train, y_train)\n",
    "\n",
    "y_pred = lr.predict(X_val)\n",
    "\n",
    "root_mean_squared_error(y_val, y_pred)"
   ]
  },
  {
   "cell_type": "code",
   "execution_count": null,
   "id": "2198e335-1746-4075-bd9d-4de35b14624a",
   "metadata": {},
   "outputs": [],
   "source": [
    "with open('models/lin_reg.bin', 'wb') as f_out:\n",
    "    pickle.dump((dv, lr), f_out)"
   ]
  },
  {
   "cell_type": "code",
   "execution_count": null,
   "id": "60904e19-2661-452e-ad82-5d1c51e4c73c",
   "metadata": {},
   "outputs": [],
   "source": [
    "!mkdir models\n"
   ]
  },
  {
   "cell_type": "code",
   "execution_count": null,
   "id": "ea2ed00f-dda0-42b9-8085-730fcf11e949",
   "metadata": {},
   "outputs": [],
   "source": [
    "!git add --all\n"
   ]
  },
  {
   "cell_type": "code",
   "execution_count": null,
   "id": "0d775cc8-bfb4-4984-82b0-7cd7b9e375c8",
   "metadata": {},
   "outputs": [],
   "source": [
    "!git commit -m \"Finished Setting Up and Training and Storing a Model\""
   ]
  },
  {
   "cell_type": "code",
   "execution_count": null,
   "id": "bc37844c-8f9f-4578-bca1-03533ff0599d",
   "metadata": {},
   "outputs": [],
   "source": [
    "!git push origin main\n"
   ]
  },
  {
   "cell_type": "code",
   "execution_count": null,
   "id": "6e917e22-f03c-404c-8ed2-dd03d1342fec",
   "metadata": {},
   "outputs": [],
   "source": []
  }
 ],
 "metadata": {
  "kernelspec": {
   "display_name": "Python 3 (ipykernel)",
   "language": "python",
   "name": "python3"
  },
  "language_info": {
   "codemirror_mode": {
    "name": "ipython",
    "version": 3
   },
   "file_extension": ".py",
   "mimetype": "text/x-python",
   "name": "python",
   "nbconvert_exporter": "python",
   "pygments_lexer": "ipython3",
   "version": "3.12.3"
  }
 },
 "nbformat": 4,
 "nbformat_minor": 5
}
